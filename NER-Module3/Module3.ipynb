{
  "nbformat": 4,
  "nbformat_minor": 0,
  "metadata": {
    "colab": {
      "name": "spaCy NER A.D.I.T.I.ipynb",
      "provenance": [],
      "toc_visible": true
    },
    "kernelspec": {
      "name": "python3",
      "display_name": "Python 3"
    }
  },
  "cells": [
    {
      "cell_type": "markdown",
      "metadata": {
        "id": "3e2xCAEZjUOF"
      },
      "source": [
        "#Named Entity Recognition - Shravan Srinivasan"
      ]
    },
    {
      "cell_type": "code",
      "metadata": {
        "id": "F5S3rCH1yiU2"
      },
      "source": [
        "import pandas as pd\n",
        "import re\n",
        "from sklearn.metrics import accuracy_score\n",
        "from sklearn.metrics import classification_report\n",
        "from sklearn.metrics import precision_recall_fscore_support"
      ],
      "execution_count": 207,
      "outputs": []
    },
    {
      "cell_type": "code",
      "metadata": {
        "id": "XkXirFEGyraW"
      },
      "source": [
        "df = pd.read_csv('A.D.I.T.I.csv')"
      ],
      "execution_count": 208,
      "outputs": []
    },
    {
      "cell_type": "code",
      "metadata": {
        "id": "uN2o8ZIuy2gP",
        "outputId": "a69d16a6-1d6f-4da5-9df4-f4b40d33395e",
        "colab": {
          "base_uri": "https://localhost:8080/",
          "height": 419
        }
      },
      "source": [
        "df"
      ],
      "execution_count": 209,
      "outputs": [
        {
          "output_type": "execute_result",
          "data": {
            "text/html": [
              "<div>\n",
              "<style scoped>\n",
              "    .dataframe tbody tr th:only-of-type {\n",
              "        vertical-align: middle;\n",
              "    }\n",
              "\n",
              "    .dataframe tbody tr th {\n",
              "        vertical-align: top;\n",
              "    }\n",
              "\n",
              "    .dataframe thead th {\n",
              "        text-align: right;\n",
              "    }\n",
              "</style>\n",
              "<table border=\"1\" class=\"dataframe\">\n",
              "  <thead>\n",
              "    <tr style=\"text-align: right;\">\n",
              "      <th></th>\n",
              "      <th>Sentences</th>\n",
              "      <th>Unnamed: 1</th>\n",
              "    </tr>\n",
              "  </thead>\n",
              "  <tbody>\n",
              "    <tr>\n",
              "      <th>0</th>\n",
              "      <td>My ds3 is diagnosed autistic. I think 30 years...</td>\n",
              "      <td>NaN</td>\n",
              "    </tr>\n",
              "    <tr>\n",
              "      <th>1</th>\n",
              "      <td>I can remember distinctly at the age of 6 or 7...</td>\n",
              "      <td>NaN</td>\n",
              "    </tr>\n",
              "    <tr>\n",
              "      <th>2</th>\n",
              "      <td>I had some very slight concerns before but i'm...</td>\n",
              "      <td>NaN</td>\n",
              "    </tr>\n",
              "    <tr>\n",
              "      <th>3</th>\n",
              "      <td>At that age the 3 things that really struck me...</td>\n",
              "      <td>NaN</td>\n",
              "    </tr>\n",
              "    <tr>\n",
              "      <th>4</th>\n",
              "      <td>He is now 9.5 months old and I think clearly a...</td>\n",
              "      <td>NaN</td>\n",
              "    </tr>\n",
              "    <tr>\n",
              "      <th>...</th>\n",
              "      <td>...</td>\n",
              "      <td>...</td>\n",
              "    </tr>\n",
              "    <tr>\n",
              "      <th>208</th>\n",
              "      <td>[Doesn't use](A_behavioural) toys or other obj...</td>\n",
              "      <td>NaN</td>\n",
              "    </tr>\n",
              "    <tr>\n",
              "      <th>209</th>\n",
              "      <td>May have a [good rote memory](A_behavioural), ...</td>\n",
              "      <td>NaN</td>\n",
              "    </tr>\n",
              "    <tr>\n",
              "      <th>210</th>\n",
              "      <td>May [lose language](A_vocal) or other social m...</td>\n",
              "      <td>NaN</td>\n",
              "    </tr>\n",
              "    <tr>\n",
              "      <th>211</th>\n",
              "      <td>[Unusual](A_behavioural) use of vision or gaze...</td>\n",
              "      <td>NaN</td>\n",
              "    </tr>\n",
              "    <tr>\n",
              "      <th>212</th>\n",
              "      <td>[Doesn't feel pain](A_behavioural)</td>\n",
              "      <td>NaN</td>\n",
              "    </tr>\n",
              "  </tbody>\n",
              "</table>\n",
              "<p>213 rows × 2 columns</p>\n",
              "</div>"
            ],
            "text/plain": [
              "                                             Sentences  Unnamed: 1\n",
              "0    My ds3 is diagnosed autistic. I think 30 years...         NaN\n",
              "1    I can remember distinctly at the age of 6 or 7...         NaN\n",
              "2    I had some very slight concerns before but i'm...         NaN\n",
              "3    At that age the 3 things that really struck me...         NaN\n",
              "4    He is now 9.5 months old and I think clearly a...         NaN\n",
              "..                                                 ...         ...\n",
              "208  [Doesn't use](A_behavioural) toys or other obj...         NaN\n",
              "209  May have a [good rote memory](A_behavioural), ...         NaN\n",
              "210  May [lose language](A_vocal) or other social m...         NaN\n",
              "211  [Unusual](A_behavioural) use of vision or gaze...         NaN\n",
              "212                 [Doesn't feel pain](A_behavioural)         NaN\n",
              "\n",
              "[213 rows x 2 columns]"
            ]
          },
          "metadata": {
            "tags": []
          },
          "execution_count": 209
        }
      ]
    },
    {
      "cell_type": "code",
      "metadata": {
        "id": "2aJJdjgAxg3m"
      },
      "source": [
        "from sklearn.model_selection import train_test_split\n",
        "\n",
        "train, test = train_test_split(df, test_size=0.2, random_state = 10)"
      ],
      "execution_count": 210,
      "outputs": []
    },
    {
      "cell_type": "code",
      "metadata": {
        "id": "0J73Js4txiXT",
        "outputId": "67992a35-2608-4426-c884-c7d0c504f1be",
        "colab": {
          "base_uri": "https://localhost:8080/",
          "height": 204
        }
      },
      "source": [
        "test.head()"
      ],
      "execution_count": 211,
      "outputs": [
        {
          "output_type": "execute_result",
          "data": {
            "text/html": [
              "<div>\n",
              "<style scoped>\n",
              "    .dataframe tbody tr th:only-of-type {\n",
              "        vertical-align: middle;\n",
              "    }\n",
              "\n",
              "    .dataframe tbody tr th {\n",
              "        vertical-align: top;\n",
              "    }\n",
              "\n",
              "    .dataframe thead th {\n",
              "        text-align: right;\n",
              "    }\n",
              "</style>\n",
              "<table border=\"1\" class=\"dataframe\">\n",
              "  <thead>\n",
              "    <tr style=\"text-align: right;\">\n",
              "      <th></th>\n",
              "      <th>Sentences</th>\n",
              "      <th>Unnamed: 1</th>\n",
              "    </tr>\n",
              "  </thead>\n",
              "  <tbody>\n",
              "    <tr>\n",
              "      <th>211</th>\n",
              "      <td>[Unusual](A_behavioural) use of vision or gaze...</td>\n",
              "      <td>NaN</td>\n",
              "    </tr>\n",
              "    <tr>\n",
              "      <th>185</th>\n",
              "      <td>[doesnt interact](A_behavioural) properly with...</td>\n",
              "      <td>NaN</td>\n",
              "    </tr>\n",
              "    <tr>\n",
              "      <th>26</th>\n",
              "      <td>My child has [Delay](A_behavioural) in Learnin...</td>\n",
              "      <td>NaN</td>\n",
              "    </tr>\n",
              "    <tr>\n",
              "      <th>78</th>\n",
              "      <td>when i leave for office, my son is [not crying...</td>\n",
              "      <td>NaN</td>\n",
              "    </tr>\n",
              "    <tr>\n",
              "      <th>87</th>\n",
              "      <td>Sometimes he [blabbers](A_behavioural) unneces...</td>\n",
              "      <td>NaN</td>\n",
              "    </tr>\n",
              "  </tbody>\n",
              "</table>\n",
              "</div>"
            ],
            "text/plain": [
              "                                             Sentences  Unnamed: 1\n",
              "211  [Unusual](A_behavioural) use of vision or gaze...         NaN\n",
              "185  [doesnt interact](A_behavioural) properly with...         NaN\n",
              "26   My child has [Delay](A_behavioural) in Learnin...         NaN\n",
              "78   when i leave for office, my son is [not crying...         NaN\n",
              "87   Sometimes he [blabbers](A_behavioural) unneces...         NaN"
            ]
          },
          "metadata": {
            "tags": []
          },
          "execution_count": 211
        }
      ]
    },
    {
      "cell_type": "code",
      "metadata": {
        "id": "Gp_cif5KzH5j"
      },
      "source": [
        "def func(str1):\n",
        "  # print(str1)\n",
        "  beg = 0\n",
        "  str1 = str1.lower()\n",
        "  st = str1.find(\"[\")\n",
        "  end = str1.find(\"]\")\n",
        "  round = re.findall(r'\\(.*?\\)', str1)\n",
        "  square = re.findall(r'\\[.*?\\]', str1)\n",
        "  if(len(round)!=len(square)):\n",
        "    return      \n",
        "  rs = [[round[i][1:-1], square[i][1:-1]] for i in range(len(round))]\n",
        "  str2 = re.sub('\\(.*?\\)','', str1)\n",
        "  # str2 = re.sub('\\W+',' ', str2)\n",
        "  # Newly added start\n",
        "  str2 = str2.replace(\"[\", \"\")\n",
        "  str2 = str2.replace(\"]\", \"\")\n",
        "  str2 = str2.replace(\"  \", \" \")\n",
        "  str2 = str2.replace(\" . \", \". \")\n",
        "  str2 = str2.replace(\" , \", \", \")\n",
        "  # str2 = str2.replace(\"(\", \"\")\n",
        "  # str2 = str2.replace(\")\", \"\")\n",
        "  # Newly added end\n",
        "  for i in range(len(rs)):\n",
        "    beg = str2.find(rs[i][1], beg)\n",
        "    end = beg + len(rs[i][1])\n",
        "    rs[i].append(beg)\n",
        "    rs[i].append(end)\n",
        "  rs2 = [(rs[i][2], rs[i][3], rs[i][0]) for i in range(len(rs))]\n",
        "  d = {\"entities\": rs2}\n",
        "  dd = (str2, d)\n",
        "  train = []\n",
        "  train.append(dd)\n",
        "  return train"
      ],
      "execution_count": 212,
      "outputs": []
    },
    {
      "cell_type": "code",
      "metadata": {
        "id": "U0CwKA6IzMPS"
      },
      "source": [
        "train_data = []\n",
        "train_data = train['Sentences'].apply(func)"
      ],
      "execution_count": 213,
      "outputs": []
    },
    {
      "cell_type": "code",
      "metadata": {
        "id": "9clKRwhDzOCW",
        "outputId": "042b8bba-3e09-48d1-9506-aa7650c2fd5e",
        "colab": {
          "base_uri": "https://localhost:8080/"
        }
      },
      "source": [
        "type(train_data)"
      ],
      "execution_count": 214,
      "outputs": [
        {
          "output_type": "execute_result",
          "data": {
            "text/plain": [
              "pandas.core.series.Series"
            ]
          },
          "metadata": {
            "tags": []
          },
          "execution_count": 214
        }
      ]
    },
    {
      "cell_type": "code",
      "metadata": {
        "id": "PdLA68M_6xGC"
      },
      "source": [
        "td = train_data.tolist() #converting it to list"
      ],
      "execution_count": 215,
      "outputs": []
    },
    {
      "cell_type": "code",
      "metadata": {
        "id": "L_uEAeIZ7Zwt",
        "outputId": "9d4e2f7b-3ae8-4c5b-b73a-bab4843d07f9",
        "colab": {
          "base_uri": "https://localhost:8080/"
        }
      },
      "source": [
        "type(td)"
      ],
      "execution_count": 216,
      "outputs": [
        {
          "output_type": "execute_result",
          "data": {
            "text/plain": [
              "list"
            ]
          },
          "metadata": {
            "tags": []
          },
          "execution_count": 216
        }
      ]
    },
    {
      "cell_type": "code",
      "metadata": {
        "id": "jZzeX1rm_P1O"
      },
      "source": [
        "#Removing none values from the list\n",
        "Not_none_values = filter(None.__ne__, td)\n",
        "td = list(Not_none_values)"
      ],
      "execution_count": 217,
      "outputs": []
    },
    {
      "cell_type": "code",
      "metadata": {
        "id": "88hhccqx8_63"
      },
      "source": [
        "def flatten(l):\n",
        "    try:\n",
        "        return flatten(l[0]) + (flatten(l[1:]) if len(l) > 1 else []) if type(l) is list else [l]\n",
        "    except IndexError:\n",
        "        return []"
      ],
      "execution_count": 218,
      "outputs": []
    },
    {
      "cell_type": "code",
      "metadata": {
        "id": "ZRmDygSH9CaG"
      },
      "source": [
        "#Making it a 1D list\n",
        "td = flatten(td)"
      ],
      "execution_count": 219,
      "outputs": []
    },
    {
      "cell_type": "code",
      "metadata": {
        "id": "tZoEmrFsGTHz",
        "outputId": "cf851d99-717b-4e5c-8a91-1900e3bd3ecc",
        "colab": {
          "base_uri": "https://localhost:8080/"
        }
      },
      "source": [
        "td"
      ],
      "execution_count": 220,
      "outputs": [
        {
          "output_type": "execute_result",
          "data": {
            "text/plain": [
              "[('breaking open the toys, climbing on various kinds of furniture. ',\n",
              "  {'entities': [(0, 8, 'a_behavioural'), (24, 32, 'a_behavioural')]}),\n",
              " (\"can't start a conversation\", {'entities': [(0, 11, 'a_behavioural')]}),\n",
              " ('yes, but sometimes he stammers when nervous',\n",
              "  {'entities': [(22, 30, 'a_behavioural')]}),\n",
              " ('yes, she gets scared when any person slightly raises his/ her tone of voice',\n",
              "  {'entities': [(14, 20, 'a_behavioural')]}),\n",
              " ('he is very withdrawn from people. he gets distracted easily and has poor motor skills.',\n",
              "  {'entities': [(6, 20, 'a_behavioural'), (42, 59, 'a_behavioural')]}),\n",
              " (\" thinking studies can't help a human in life\",\n",
              "  {'entities': [(18, 28, 'a_behavioural')]}),\n",
              " (\"we gave him more space and a people free area if his own, his behaviour changed. massive improvement, more reasonable etc. when he needs us he knows where we are and our conversations became with him rather than at him. sounds stupid i know but in his case he just needed space and it's done him the world if good.\",\n",
              "  {'entities': [(265, 277, 'a_behavioural')]}),\n",
              " (\"doesn't feel pain\", {'entities': [(0, 17, 'a_behavioural')]}),\n",
              " ('sometimes he stutters', {'entities': [(13, 21, 'a_behavioural')]}),\n",
              " ('pronunciation ', {'entities': [(0, 13, 'a_vocal')]}),\n",
              " ('he rocked, had a very odd walking style',\n",
              "  {'entities': [(3, 9, 'a_behavioural'), (22, 25, 'a_behavioural')]}),\n",
              " ('shaking is legs and figeting with hands',\n",
              "  {'entities': [(0, 7, 'a_behavioural')]}),\n",
              " ('never starts a conversation other than to make requests or label items\\n',\n",
              "  {'entities': [(0, 12, 'a_behavioural')]}),\n",
              " ('may reject others; if interested in others, may approach others inappropriately, seeming to be aggressive or disruptive',\n",
              "  {'entities': [(4, 17, 'a_behavioural'),\n",
              "    (64, 79, 'a_behavioural'),\n",
              "    (95, 105, 'a_intensity'),\n",
              "    (109, 119, 'a_intensity')]}),\n",
              " ('licking non-food items', {'entities': [(0, 7, 'a_behavioural')]}),\n",
              " ('he knows he is different and struggles to fit in socially, things going wrong makes him angry and he seems to unleash that at home. he has extremes of emotion either really happy or really angry like the whole world is against him',\n",
              "  {'entities': [(29, 38, 'a_behavioural'),\n",
              "    (88, 93, 'a_intensity'),\n",
              "    (139, 147, 'a_intensity')]}),\n",
              " ('doesn’t interact ', {'entities': [(0, 16, 'a_behavioural')]}),\n",
              " (\"doesn't have a proper and peaceful sleep and always is in an irritated mood\",\n",
              "  {'entities': [(61, 70, 'a_intensity')]}),\n",
              " ('daughter not diagnosed till 13 when she started having panic attacks and after lots of tests in hospital they concluded she had autism and adhd and was in overload causing serious physical symptoms including loss of vision.\\n',\n",
              "  {'entities': [(55, 68, 'a_intensity'),\n",
              "    (155, 163, 'a_intensity'),\n",
              "    (172, 179, 'a_intensity')]}),\n",
              " ('lacks facial expression\\n', {'entities': [(0, 23, 'a_behavioural')]}),\n",
              " ('starts a conversation easily but hates to continue talking',\n",
              "  {'entities': [(33, 38, 'a_behavioural')]}),\n",
              " ('no since he is a toddler he cant speak yet',\n",
              "  {'entities': [(28, 38, 'a_behavioural')]}),\n",
              " ('intensely focuses on a single topic',\n",
              "  {'entities': [(0, 9, 'a_intensity')]}),\n",
              " ('speaks with an abnormal tone', {'entities': [(15, 28, 'a_vocal')]}),\n",
              " ('odd or flat intonation\\n\\n', {'entities': [(7, 22, 'a_behavioural')]}),\n",
              " ('name recognition - he responds to his name probably half of the time. sometimes you can be really loud and right next to him and nothing.\\n',\n",
              "  {'entities': [(22, 30, 'a_vocal'), (98, 102, 'a_intensity')]}),\n",
              " ('when learned a new phrase she tends to repeat it whenever there is a chance',\n",
              "  {'entities': [(39, 45, 'a_behavioural')]}),\n",
              " ('he doesn’t like busy noisy places despite playing really loud music himself.he won’t walk anywhere on his own and won’t use public transport so until he passed his driving test it massively limited him.',\n",
              "  {'entities': [(21, 26, 'a_intensity'), (57, 61, 'a_intensity')]}),\n",
              " ('he struggles to fit in socially.',\n",
              "  {'entities': [(3, 12, 'a_behavioural')]}),\n",
              " ('* we offered money if she did a few chores. wasn’t interested* has no empathy whatsoever for people’s feelings. an example - her very sick grandmother came back from the hairdresser. i said ‘oh your hair looks nice xx’. her response ‘i can’t see any difference’. her dad and i got engaged, her response ‘it won’t last’. i could go on.... seems to have no thought for how people might feel\\n',\n",
              "  {'entities': [(67, 77, 'a_behavioural')]}),\n",
              " ('she throws herself on the floor', {'entities': [(4, 10, 'a_intensity')]}),\n",
              " ('ignoring when asked questions ', {'entities': [(0, 8, 'a_behavioural')]}),\n",
              " ('she was also a loner due to her weak social interactions',\n",
              "  {'entities': [(15, 20, 'a_behavioural')]}),\n",
              " ('lack of coordination, clumsiness and acting without thinking',\n",
              "  {'entities': [(0, 20, 'a_behavioural'), (22, 32, 'a_behavioural')]}),\n",
              " ('has difficulty recognizing nonverbal cues,',\n",
              "  {'entities': [(0, 26, 'a_behavioural')]}),\n",
              " ('is angry towards her younger siblings by attacking only him and being distressed about it',\n",
              "  {'entities': [(3, 8, 'a_intensity'),\n",
              "    (41, 50, 'a_intensity'),\n",
              "    (70, 80, 'a_behavioural')]}),\n",
              " ('inappropriately approaches a social interaction by being passive, aggressive or disruptive',\n",
              "  {'entities': [(0, 15, 'a_behavioural'),\n",
              "    (57, 64, 'a_intensity'),\n",
              "    (66, 76, 'a_intensity'),\n",
              "    (80, 90, 'a_intensity')]}),\n",
              " ('yes, banging of head whenever distressed. ',\n",
              "  {'entities': [(5, 12, 'a_intensity')]}),\n",
              " ('my child has just turned 18 months. crawled approx 9-10 months.walked 13-14 months.started to babble/first sounds/first \"words\"/point all \"normally\".then at 15 and a half months all his vocabulary disappeared. lots of two-syllible words all gone. eg. sibling names, pet names all just gone. i used to be ma-ma. now it\\'s just a \\'m\\' sound\\n',\n",
              "  {'entities': [(36, 43, 'a_behavioural'),\n",
              "    (94, 100, 'a_behavioural'),\n",
              "    (197, 208, 'a_behavioural')]}),\n",
              " (\"if i went out and came back he never acknowledged me. he didn't smile much and never babbled.\\n\",\n",
              "  {'entities': [(31, 49, 'a_behavioural'), (85, 92, 'a_behavioural')]}),\n",
              " ('* prefers routine.\\n', {'entities': [(10, 17, 'a_behavioural')]}),\n",
              " (' he used to have massive melt downs and self harm hitting his head against walls',\n",
              "  {'entities': [(25, 35, 'a_intensity'), (40, 49, 'a_intensity')]}),\n",
              " ('may have a good rote memory, especially for numbers, letters, songs, tv jingles, or a specific topic',\n",
              "  {'entities': [(11, 27, 'a_behavioural')]}),\n",
              " ('crying and jumping',\n",
              "  {'entities': [(0, 6, 'a_behavioural'), (11, 18, 'a_behavioural')]}),\n",
              " ('mimic sounds or facial expressions',\n",
              "  {'entities': [(0, 5, 'a_behavioural')]}),\n",
              " ('has difficulty recognizing body postures',\n",
              "  {'entities': [(4, 26, 'a_behavioural')]}),\n",
              " ('no. in repetition only. ', {'entities': [(7, 17, 'a_behavioural')]}),\n",
              " ('very antisocial, does not make eye contact, has repetitive actions. ',\n",
              "  {'entities': [(5, 15, 'a_behavioural'), (48, 58, 'a_behavioural')]}),\n",
              " (\"has difficulty recognizing interpreting other people's facial expressions\",\n",
              "  {'entities': [(4, 26, 'a_behavioural')]}),\n",
              " ('he may not stretch out his arms to be picked up or guided with walking',\n",
              "  {'entities': [(50, 57, 'a_behavioural')]}),\n",
              " (\"forgets that he's already done something and after that banging of head whenever distressed. \",\n",
              "  {'entities': [(0, 7, 'a_behavioural'), (56, 63, 'a_intensity')]}),\n",
              " ('character is too premature', {'entities': [(17, 26, 'a_behavioural')]}),\n",
              " ('he had significant sensory issues too, particularly about smells and sounds. his idea of absolute hell was a busy shopping centre. he was and is very stressy.\\n',\n",
              "  {'entities': [(19, 26, 'a_behavioural'),\n",
              "    (98, 102, 'a_intensity'),\n",
              "    (150, 157, 'a_intensity')]}),\n",
              " ('abnormal body posturing', {'entities': [(0, 8, 'a_intensity')]}),\n",
              " ('social withdrawal', {'entities': [(7, 17, 'a_behavioural')]}),\n",
              " ('she also has issues with muscle tone and global delay. she has cp.\\n\\n',\n",
              "  {'entities': [(13, 19, 'a_behavioural')]}),\n",
              " ('he oftenly flaps his hand and always has a rubber band which he found somewhere with him',\n",
              "  {'entities': [(11, 16, 'a_behavioural')]}),\n",
              " ('we are sure there is something different about dd2 who has just turned 1. we cant tell whether it is hearing problems or whether she is on the autistic spectrum or both?!',\n",
              "  {'entities': [(101, 117, 'a_behavioural')]}),\n",
              " ('she is very fussy with her food.\\n',\n",
              "  {'entities': [(12, 17, 'a_intensity')]}),\n",
              " ('he uses a single phrase very often', {'entities': [(10, 23, 'a_vocal')]}),\n",
              " ('* extremely fussy eater - basically lives off 3 oven meals dosed in tomato sauce. will have a melt down if encouraged to tray anything else. i think this is textural.\\n',\n",
              "  {'entities': [(12, 17, 'a_intensity'), (94, 103, 'a_intensity')]}),\n",
              " ('he hits the table when he wants something.',\n",
              "  {'entities': [(3, 7, 'a_intensity')]}),\n",
              " ('she doesnt say any words did say mumma and dadda a bit but not anymore.\\n',\n",
              "  {'entities': [(4, 14, 'a_vocal')]}),\n",
              " ('sleep disturbances', {'entities': [(0, 18, 'a_behavioural')]}),\n",
              " ('repeating words or phrases\\n', {'entities': [(0, 9, 'a_behavioural')]}),\n",
              " ('gives unrelated answers to questions',\n",
              "  {'entities': [(6, 15, 'a_behavioural')]}),\n",
              " ('you could start by having a look at the wide range of issues included in speech and language pathology, most of which can cause speech delay and individually a long way from autism.',\n",
              "  {'entities': [(128, 140, 'a_vocal')]}),\n",
              " (\"at that age the 3 things that really struck me were not responding to his name, not pointing, & not waving.\\nhe also did not speak. when he was 2&1/2 i read a helpful book by dr lorna wing, which details many of the signs of autism & helped me realize that's what was wrong.\",\n",
              "  {'entities': [(52, 66, 'a_behavioural'),\n",
              "    (80, 92, 'a_behavioural'),\n",
              "    (96, 106, 'a_behavioural'),\n",
              "    (120, 129, 'a_behavioural')]}),\n",
              " ('my child doesn’t communicate verbally.',\n",
              "  {'entities': [(9, 28, 'a_vocal')]}),\n",
              " ('gaze switching', {'entities': [(0, 14, 'a_behavioural')]}),\n",
              " ('always in a confused state which leads to many misunderstandings',\n",
              "  {'entities': [(12, 20, 'a_behavioural'), (47, 64, 'a_behavioural')]}),\n",
              " ('ds is 18 and was fully diagnosed with \"high functioning asd\" aged 7, although marked as showing characteristics from the age of 3.',\n",
              "  {'entities': [(88, 111, 'a_behavioural')]}),\n",
              " ('regression in or loss of use of speech.',\n",
              "  {'entities': [(0, 10, 'a_behavioural')]}),\n",
              " ('learn quickly, yet have trouble communicating ', {'entities': []}),\n",
              " ('getting very upset if you ask them to do something and eventually start screaming',\n",
              "  {'entities': [(13, 18, 'a_behavioural'), (72, 81, 'a_vocal')]}),\n",
              " ('my son is almost 20. he’s always been at the severe end of the spectrum. he has sld and is mostly non verbal. as a child he was very easy, hardly knew we had him. at 14 his behaviour got worse, he developed epilepsy and ocd',\n",
              "  {'entities': [(45, 51, 'a_intensity'),\n",
              "    (98, 108, 'a_vocal'),\n",
              "    (187, 192, 'a_intensity')]}),\n",
              " ('have obsessive interests\\n', {'entities': [(5, 14, 'a_intensity')]}),\n",
              " ('poor social interaction and poor academies.',\n",
              "  {'entities': [(0, 23, 'a_behavioural')]}),\n",
              " ('his tone of voice is abnormal, often speaks in low pitch',\n",
              "  {'entities': [(21, 29, 'a_behavioural'), (47, 56, 'a_vocal')]}),\n",
              " ('may be indifferent to pain or temperature\\n',\n",
              "  {'entities': [(7, 26, 'a_behavioural')]}),\n",
              " (\"no, at times can't understand what she is trying to deliver her opinion\",\n",
              "  {'entities': [(13, 29, 'a_vocal')]}),\n",
              " ('he is bright, but has multiple additional learning needs, including severe dyslexia',\n",
              "  {'entities': [(68, 74, 'a_intensity'), (75, 83, 'a_behavioural')]}),\n",
              " ('loud horn sounds disturb him', {'entities': [(0, 4, 'a_intensity')]}),\n",
              " ('doesn\\'t play \"make-believe\" or pretend ',\n",
              "  {'entities': [(0, 12, 'a_behavioural')]}),\n",
              " ('my son is highly dependent on everyone',\n",
              "  {'entities': [(17, 26, 'a_behavioural')]}),\n",
              " ('has ritualistic behaviors e.g. lining up objects, repeatedly touching objects in a set order',\n",
              "  {'entities': [(49, 69, 'a_behavioural')]}),\n",
              " ('reminds him of himself as a child - easily distracted, easily bored, cant stay on task, daydreamer – and think she may have the same conditions and he wants to be able to help her not struggle in the way he has. he also thinks he has social anxiety, and add ',\n",
              "  {'entities': [(43, 53, 'a_intensity'),\n",
              "    (62, 67, 'a_behavioural'),\n",
              "    (88, 98, 'a_behavioural'),\n",
              "    (241, 248, 'a_behavioural')]}),\n",
              " ('he cant...uses very flat speech an incomplete sentences',\n",
              "  {'entities': [(20, 31, 'a_vocal')]}),\n",
              " (\"i dread social contact every single day - i have about 2 friends, the rest of the people i talk to are friendly people from school who try and get to know me, before giving me that 'look' and giving up in favour of someone more normal.i just avoid anything that means having to interact as it's so stressful.often i feel quite happy and cheerful despite being rather lonely - so it seems strange to say i'm depressed. sometimes of course it does hit full blast and everything seems pointless for a while - but i'm really wondering now.\",\n",
              "  {'entities': [(242, 247, 'a_intensity'),\n",
              "    (298, 307, 'a_intensity'),\n",
              "    (367, 373, 'a_behavioural'),\n",
              "    (407, 416, 'a_behavioural')]}),\n",
              " (\"doesn't like loud sounds\", {'entities': [(13, 17, 'a_intensity')]}),\n",
              " ('is vicious towards her younger siblings',\n",
              "  {'entities': [(3, 10, 'a_intensity')]}),\n",
              " (\"doesn't understand how to use words or phrases\",\n",
              "  {'entities': [(0, 18, 'a_behavioural')]}),\n",
              " ('repetitive ', {'entities': [(0, 10, 'a_behavioural')]}),\n",
              " ('my son who is 6 years old is avoiding eye contact whenever i try to talk to him.',\n",
              "  {'entities': [(29, 37, 'a_behavioural')]}),\n",
              " ('he stammer sometimes', {'entities': [(3, 10, 'a_behavioural')]}),\n",
              " ('she doesnt respond to her name and tends to ignore all attempts at getting her attention unless it makes her laugh.',\n",
              "  {'entities': [(4, 18, 'a_behavioural'), (44, 50, 'a_intensity')]}),\n",
              " (\"cry hysterically if something happens that she doesn't like.she throws herself on the floor. has tantrums. \",\n",
              "  {'entities': [(0, 3, 'a_behavioural'), (64, 70, 'a_intensity')]}),\n",
              " ('does not react at toys when i show her',\n",
              "  {'entities': [(0, 14, 'a_behavioural')]}),\n",
              " ('when i play with my child she does not smile at me often\\n',\n",
              "  {'entities': [(30, 44, 'a_behavioural')]}),\n",
              " (\"he is now 9.5 months old and i think clearly autistic. i am no doctor but if anyone has been through this process you become an expert of sorts.\\nwhat have i/we noticed...\\nname recognition - he is not responding to his name probably half of the time. sometimes you can be really loud and right next to him and nothing.\\nresistance to touch - he hates to be held, pushing away if you hold him close.\\nhead wobble/shake - he's recently developed this head shaking movement which he does in his walker or when sitting watching tv. this was the straw that broke our back and we couldn't hide from it anymore.\\n\",\n",
              "  {'entities': [(196, 210, 'a_behavioural'),\n",
              "    (271, 282, 'a_vocal'),\n",
              "    (318, 328, 'a_intensity'),\n",
              "    (343, 348, 'a_intensity'),\n",
              "    (361, 368, 'a_intensity'),\n",
              "    (446, 458, 'a_behavioural')]}),\n",
              " ('yes, even a slight sound can wake him up causing sleep disturbances',\n",
              "  {'entities': [(49, 67, 'a_behavioural')]}),\n",
              " ('when my son with autism was 3, he had virtually no language, no social skills, exhibited bizarre behaviour and regularly had meltdowns.\\nwhen he went to school at 5, he still had poor language skills, no social skills and had no idea how to behave. he regularly lay down in assembly, refused to co operate in class and used to hit the staff and other children.he was not diagnosed with autism until he was nearly 8. by this time the hitting and lying down in assembly had stopped, and he was conforming more at school, but we noticed his behaviour at home was much worse \\n',\n",
              "  {'entities': [(61, 77, 'a_behavioural'),\n",
              "    (178, 182, 'a_intensity'),\n",
              "    (432, 439, 'a_intensity'),\n",
              "    (491, 501, 'a_intensity')]}),\n",
              " ('diagnosed by physician...initially used to avoid eye contact, was not responding to his name..thats when was taken to physician ',\n",
              "  {'entities': [(43, 60, 'a_behavioural'), (66, 80, 'a_behavioural')]}),\n",
              " ('have unusual reactions to the way things sound, smell, taste, look, or feel',\n",
              "  {'entities': [(5, 22, 'a_behavioural')]}),\n",
              " ('yes he gets disturbed by loud noises like shouting or fire crackers.',\n",
              "  {'entities': [(12, 21, 'a_behavioural'),\n",
              "    (25, 29, 'a_intensity'),\n",
              "    (42, 50, 'a_intensity')]}),\n",
              " (\"cry hysterically if something happens that she doesn't like.\",\n",
              "  {'entities': [(0, 3, 'a_behavioural')]}),\n",
              " ('resists cuddling and holding, and seems to prefer playing alone, retreating into his or her own world\\n',\n",
              "  {'entities': [(0, 7, 'a_intensity'),\n",
              "    (58, 63, 'a_behavioural'),\n",
              "    (65, 75, 'a_intensity')]}),\n",
              " ('get upset by minor changes\\n', {'entities': [(4, 9, 'a_behavioural')]}),\n",
              " (\"son was diagnosed age 7. started seeking diagnosis after school became an issue and behaviour escalated to violence.\\nin hindsight he was always a child of routine and tantrums, had speech delay and didn't play properly.\",\n",
              "  {'entities': [(107, 115, 'a_intensity'),\n",
              "    (167, 175, 'a_intensity'),\n",
              "    (181, 193, 'a_vocal')]}),\n",
              " ('yes, my child would  tell some words repeatedly',\n",
              "  {'entities': [(37, 47, 'a_behavioural')]}),\n",
              " ('is unusually sensitive to light, sound or touch, ',\n",
              "  {'entities': [(13, 22, 'a_behavioural')]}),\n",
              " ('may lose language or other social milestones, usually between the ages of 15 and 24 months often called regression',\n",
              "  {'entities': [(4, 17, 'a_vocal'), (104, 114, 'a_behavioural')]}),\n",
              " ('yes, sometimes he shouts when he hears sounds of vehicles passing by',\n",
              "  {'entities': [(18, 24, 'a_intensity')]}),\n",
              " ('she had immature speech.\\n', {'entities': [(8, 16, 'a_behavioural')]}),\n",
              " ('extremes of emotional reactivity to change or new situations',\n",
              "  {'entities': [(0, 8, 'a_intensity'), (12, 21, 'a_behavioural')]}),\n",
              " ('gauging personal space, always tries to escape from social interactions',\n",
              "  {'entities': [(40, 71, 'a_behavioural')]}),\n",
              " ('speech issues', {'entities': [(0, 13, 'a_behavioural')]}),\n",
              " ('he has extremes of emotion', {'entities': [(7, 15, 'a_intensity')]}),\n",
              " ('if she does some things and it goes wrong makes her angry',\n",
              "  {'entities': [(52, 57, 'a_intensity')]}),\n",
              " ('starts talking alone and laughs alone and says as having a conversation with someone else when asked',\n",
              "  {'entities': [(7, 20, 'a_behavioural'), (25, 37, 'a_behavioural')]}),\n",
              " ('attention is diverted easily, distracted and not able to focus or concentrate and having less peers',\n",
              "  {'entities': [(13, 21, 'a_behavioural'),\n",
              "    (30, 40, 'a_behavioural'),\n",
              "    (45, 62, 'a_behavioural')]}),\n",
              " ('* won’t try any new experiences, has no interest in trying anything new.\\n',\n",
              "  {'entities': [(37, 48, 'a_behavioural')]}),\n",
              " (\"ds2 had a severe speech and language delay, didn't wave or point until he was 2.5yrs old, and had incredibly sensitive hearing.\\n\\nhe is now about to turn 9, and is nt, a bright and articulate child. in his case and he didn't speak at all until he was 3.2yrs old the speech and language delay seemed to mimic many of the characteristics of autism.\\n\",\n",
              "  {'entities': [(10, 16, 'a_intensity'),\n",
              "    (109, 118, 'a_intensity'),\n",
              "    (217, 229, 'a_vocal'),\n",
              "    (276, 290, 'a_vocal')]}),\n",
              " ('there is a child in ds\\'s class at school who attended a special school at primary for what might be considered \"severe\" autism in terms of behaviour and reactions, although high iq/speech, now is fitting into secondary brilliantly too due to early support, and has a group of friends',\n",
              "  {'entities': [(153, 162, 'a_behavioural')]}),\n",
              " (\"she flaps her hands when she's upset, excited or angry\",\n",
              "  {'entities': [(4, 9, 'a_behavioural'),\n",
              "    (31, 36, 'a_intensity'),\n",
              "    (49, 54, 'a_intensity')]}),\n",
              " ('he used to scratch the pram top. he used to look for lights instead of faces. he never appeared to recognise us there were no special smiles',\n",
              "  {'entities': [(11, 18, 'a_intensity')]}),\n",
              " ('sensitive to sound', {'entities': [(0, 9, 'a_behavioural')]}),\n",
              " ('too childish for his age', {'entities': [(0, 12, 'a_behavioural')]}),\n",
              " ('laughing for no apparent reason\\n',\n",
              "  {'entities': [(0, 8, 'a_behavioural')]}),\n",
              " ('my son was totally mute at 2 and said mum and not much more at 3y. he has verbal dyspraxia. we got a private salt round when he was two and a half who diagnosed him. he now has nhs salt. hth\\n\\n',\n",
              "  {'entities': [(19, 23, 'a_vocal'), (74, 90, 'a_vocal')]}),\n",
              " ('getting too close to other people, or getting very upset if someone touches or gets too close to you',\n",
              "  {'entities': [(51, 56, 'a_intensity'), (84, 93, 'a_behavioural')]}),\n",
              " ('he feels very shy to interact with others',\n",
              "  {'entities': [(9, 17, 'a_behavioural')]}),\n",
              " ('he is quite sensitive like he cry on very small things which are not that much important',\n",
              "  {'entities': [(12, 21, 'a_behavioural'), (30, 33, 'a_behavioural')]}),\n",
              " ('yes, rubbing his fingers together ',\n",
              "  {'entities': [(5, 12, 'a_behavioural')]}),\n",
              " ('she doesnt react to watching objects fall and just sees them',\n",
              "  {'entities': [(4, 16, 'a_behavioural')]}),\n",
              " ('he has always been able to hold down a job but he really struggles with time management, deadlines, communication, prioritising multiple tasks, etc. currently he’s going through a bit of a crisis as he’s struggling with a couple of projects he’s supposed to be managing where these issues are coming to the fore. his colleagues are getting riled and his boss is making comments about his lack of productivity and progress. this leads him into a downward spiral into depression and anxiety. he’s actively looking for a new job.',\n",
              "  {'entities': [(204, 214, 'a_intensity'),\n",
              "    (466, 476, 'a_behavioural'),\n",
              "    (481, 488, 'a_behavioural')]}),\n",
              " ('my son cannot clap by himself', {'entities': [(7, 18, 'a_behavioural')]}),\n",
              " ('starts to be scared while looking at a particular object for a long time',\n",
              "  {'entities': [(13, 19, 'a_behavioural')]}),\n",
              " ('voice is abnormal, often speaks in high pitch',\n",
              "  {'entities': [(9, 17, 'a_behavioural'), (35, 45, 'a_intensity')]}),\n",
              " (\"she doesn't express emotions\", {'entities': [(12, 28, 'a_behavioural')]}),\n",
              " ('when upset, doesn’t like to be comforted and sits alone',\n",
              "  {'entities': [(5, 10, 'a_behavioural'), (50, 55, 'a_behavioural')]}),\n",
              " ('as an aside, the hyper mobility may also be present in the muscles used to develop oromotor skills, so that may explain some of the delays clues might be related to feeding or drooling',\n",
              "  {'entities': [(17, 31, 'a_behavioural'),\n",
              "    (132, 138, 'a_behavioural'),\n",
              "    (176, 184, 'a_intensity')]}),\n",
              " (\"one was extremely passive and didn't really react to anything or anyone. the other was like a whirlwind who couldn't seem to stay still for even a moment.\\nthey both had a lot of sensory issues though and neither of them could cope with loud noises. one hardly felt pain at all, and the other shrieked if anything touched their skin.\",\n",
              "  {'entities': [(94, 103, 'a_intensity'),\n",
              "    (178, 185, 'a_behavioural'),\n",
              "    (236, 247, 'a_intensity'),\n",
              "    (292, 300, 'a_intensity')]}),\n",
              " (\"forgets that he's already done the job\",\n",
              "  {'entities': [(0, 7, 'a_behavioural')]}),\n",
              " ('there is no speech. he used to have 2 word speech, but that vanished too. ',\n",
              "  {'entities': [(9, 18, 'a_vocal')]}),\n",
              " ('non responsive at times', {'entities': [(0, 14, 'a_behavioural')]}),\n",
              " ('she is more than happy to play on her own.\\n',\n",
              "  {'entities': [(31, 41, 'a_behavioural')]}),\n",
              " ('dog barking scares him', {'entities': [(12, 18, 'a_behavioural')]}),\n",
              " ('no, she keeps stammering when asked to speak',\n",
              "  {'entities': [(14, 24, 'a_behavioural')]}),\n",
              " ('* doesn’t participate in any group sports - starts then drops out\\n',\n",
              "  {'entities': [(2, 21, 'a_behavioural'), (56, 65, 'a_intensity')]}),\n",
              " ('no, he pauses a lot and struggles to have a conversation. ',\n",
              "  {'entities': [(7, 13, 'a_vocal'), (24, 33, 'a_behavioural')]}),\n",
              " ('loses previous ability to say words ',\n",
              "  {'entities': [(0, 5, 'a_behavioural')]}),\n",
              " ('he also flapped quite a lot and used to get very obsessive about things.',\n",
              "  {'entities': [(8, 15, 'a_behavioural'), (49, 58, 'a_intensity')]}),\n",
              " ('my ds3 is diagnosed autistic. i think 30 years ago he would have been labelled retarded or slow. i have a cousin who is very similar to ds3 and that is his dx.\\nds3 also has birth defects and we took part in the study that made the link between bd and living near a landfill. i also have concerns over the over use of antibiotics, my ds is allergic to penicillin and had masses of antibiotics at the age of one.\\nbetter dx of asd is also a factor imo. we have many children at my sons schools with asd dx that have more subtle needs and are not say at the level where they would need a statement of sen.\\n\\n',\n",
              "  {'entities': [(79, 87, 'a_behavioural'),\n",
              "    (305, 313, 'a_behavioural'),\n",
              "    (339, 347, 'a_behavioural')]}),\n",
              " ('in hindsight she walked on tip toe\\n',\n",
              "  {'entities': [(3, 12, 'a_behavioural'), (27, 34, 'a_behavioural')]}),\n",
              " (\"doesn't use toys or other objects to represent people or real life in pretend play\",\n",
              "  {'entities': [(0, 11, 'a_behavioural')]}),\n",
              " ('no response to verbal instructions despite normal hearing test',\n",
              "  {'entities': [(0, 11, 'a_behavioural')]}),\n",
              " ('uses body language and gestures to communicate with others',\n",
              "  {'entities': [(23, 31, 'a_behavioural')]}),\n",
              " ('yes. scribbles a lot', {'entities': [(5, 14, 'a_behavioural')]}),\n",
              " ('his speech breaks in between. almost like he is trying hard to communicate or searching for words to describe the situation. ',\n",
              "  {'entities': [(4, 17, 'a_vocal'), (55, 74, 'a_vocal')]}),\n",
              " (\"i knew something was wrong from ds's earliest days tbh. he used to cry all the time wouldn't be comforted but would self soothe in a rocking chair.\",\n",
              "  {'entities': [(67, 70, 'a_behavioural'), (133, 140, 'a_behavioural')]}),\n",
              " ('my doctor knows i’m autistic so adapts a little when i need it but i have no actual ongoing support, depending on where you live there might be charities that help, but none where i am. but it gives me the building blocks i needed to understand myself, before i always pressured myself to be “normal” go to shops etc try and function like others, now i know why i freak the fuck out in shops and no amount of trying is going to make me not autistic so i do things that make my life simpler rather then trying to fit in, online shopping, doing tesco shopping late at night/online etc if you get me',\n",
              "  {'entities': [(269, 278, 'a_behavioural'), (364, 369, 'a_behavioural')]}),\n",
              " (\"yes, playing toys alone and not sure of who's around while playing\",\n",
              "  {'entities': [(18, 23, 'a_behavioural')]})]"
            ]
          },
          "metadata": {
            "tags": []
          },
          "execution_count": 220
        }
      ]
    },
    {
      "cell_type": "code",
      "metadata": {
        "id": "U6uIChRfGb54",
        "outputId": "2687e2f5-85cb-4b75-ba92-923aa57b617d",
        "colab": {
          "base_uri": "https://localhost:8080/"
        }
      },
      "source": [
        "len(td)"
      ],
      "execution_count": 221,
      "outputs": [
        {
          "output_type": "execute_result",
          "data": {
            "text/plain": [
              "163"
            ]
          },
          "metadata": {
            "tags": []
          },
          "execution_count": 221
        }
      ]
    },
    {
      "cell_type": "code",
      "metadata": {
        "id": "-i9QovxOx8XE"
      },
      "source": [
        "test_data = []\n",
        "test_data = test['Sentences'].apply(func)"
      ],
      "execution_count": 222,
      "outputs": []
    },
    {
      "cell_type": "code",
      "metadata": {
        "id": "_56CdvfXx8XH",
        "outputId": "37b8f5dc-e164-4e6b-fa3e-f01959175c89",
        "colab": {
          "base_uri": "https://localhost:8080/"
        }
      },
      "source": [
        "type(test_data)"
      ],
      "execution_count": 223,
      "outputs": [
        {
          "output_type": "execute_result",
          "data": {
            "text/plain": [
              "pandas.core.series.Series"
            ]
          },
          "metadata": {
            "tags": []
          },
          "execution_count": 223
        }
      ]
    },
    {
      "cell_type": "code",
      "metadata": {
        "id": "lTRZjxImx8XK"
      },
      "source": [
        "testing = test_data.tolist() #converting it to list"
      ],
      "execution_count": 224,
      "outputs": []
    },
    {
      "cell_type": "code",
      "metadata": {
        "id": "ZOT1ohfGx8XM",
        "outputId": "78f1f34a-bbad-4b03-b7b5-968cffe710d6",
        "colab": {
          "base_uri": "https://localhost:8080/"
        }
      },
      "source": [
        "type(testing)"
      ],
      "execution_count": 225,
      "outputs": [
        {
          "output_type": "execute_result",
          "data": {
            "text/plain": [
              "list"
            ]
          },
          "metadata": {
            "tags": []
          },
          "execution_count": 225
        }
      ]
    },
    {
      "cell_type": "code",
      "metadata": {
        "id": "yc1L1uxUx8XS"
      },
      "source": [
        "#Removing none values from the list\n",
        "Not_none_values = filter(None.__ne__, testing)\n",
        "testing = list(Not_none_values)"
      ],
      "execution_count": 226,
      "outputs": []
    },
    {
      "cell_type": "code",
      "metadata": {
        "id": "Jmd45nc_x8XV"
      },
      "source": [
        "def flatten(l):\n",
        "    try:\n",
        "        return flatten(l[0]) + (flatten(l[1:]) if len(l) > 1 else []) if type(l) is list else [l]\n",
        "    except IndexError:\n",
        "        return []"
      ],
      "execution_count": 227,
      "outputs": []
    },
    {
      "cell_type": "code",
      "metadata": {
        "id": "l9QAdmW-x8XX"
      },
      "source": [
        "#Making it a 1D list\n",
        "testing = flatten(testing)"
      ],
      "execution_count": 228,
      "outputs": []
    },
    {
      "cell_type": "code",
      "metadata": {
        "id": "aPUpnl3bx8Xa",
        "outputId": "7153d4e5-147f-47bb-ab60-a1f8746ce203",
        "colab": {
          "base_uri": "https://localhost:8080/"
        }
      },
      "source": [
        "testing"
      ],
      "execution_count": 229,
      "outputs": [
        {
          "output_type": "execute_result",
          "data": {
            "text/plain": [
              "[('unusual use of vision or gaze—looks at objects from unusual angles\\n',\n",
              "  {'entities': [(0, 7, 'a_behavioural')]}),\n",
              " ('doesnt interact properly with peers',\n",
              "  {'entities': [(0, 15, 'a_behavioural')]}),\n",
              " ('my child has delay in learning to speak',\n",
              "  {'entities': [(13, 18, 'a_behavioural'), (34, 39, 'a_vocal')]}),\n",
              " ('when i leave for office, my son is not crying',\n",
              "  {'entities': [(35, 45, 'a_behavioural')]}),\n",
              " ('sometimes he blabbers unnecessarily',\n",
              "  {'entities': [(13, 21, 'a_behavioural')]}),\n",
              " (\"eye contact - he actively avoids eye contact. if you hold him up in front of your face he'll do anything he can to not look you in the eyes. from a distance he's much better but up close it's really noticeable.\\n\",\n",
              "  {'entities': [(26, 32, 'a_intensity')]}),\n",
              " ('op, mine is midst diagnosis, but so far it seems to be accepted that he is.\\ninitially we thought he had elective mutism. he was referred to salt. and also had audiology test',\n",
              "  {'entities': [(113, 119, 'a_vocal')]}),\n",
              " ('my child won’t self-advocate because they use an adaptive device to communicate',\n",
              "  {'entities': [(15, 28, 'a_vocal')]}),\n",
              " ('she has only just turned 12 months so still very young so not sure if she has slight hearing problems, maybe some asd or just completely ignorant',\n",
              "  {'entities': [(137, 145, 'a_behavioural')]}),\n",
              " ('cannot follow instructions, always the last person to get it\\n',\n",
              "  {'entities': [(39, 43, 'a_behavioural')]}),\n",
              " ('my ds2 is 21 now.he still needs lots of support with every day living skills, still eats inedible objects, and is medicated for anxiety and ocd ',\n",
              "  {'entities': [(84, 105, 'a_behavioural')]}),\n",
              " ('get scared of seeing spinning objects',\n",
              "  {'entities': [(4, 10, 'a_behavioural')]}),\n",
              " ('she doesnt point or wave.\\n',\n",
              "  {'entities': [(4, 16, 'a_behavioural'), (20, 24, 'a_behavioural')]}),\n",
              " ('pronunciation of certain letters', {'entities': [(0, 13, 'a_vocal')]}),\n",
              " ('have obsessive interests such as waiting for an object to break etc\\n',\n",
              "  {'entities': [(5, 14, 'a_intensity')]}),\n",
              " (\"doesn't point at or bring objects to share interest\\n\",\n",
              "  {'entities': [(0, 13, 'a_behavioural')]}),\n",
              " (' has tantrums. ', {'entities': [(5, 13, 'a_intensity')]}),\n",
              " (\"he won't be independent, won't drive or marry no interest in relationships, just in lists, supermarkets and pets\",\n",
              "  {'entities': [(46, 57, 'a_behavioural')]}),\n",
              " ('* can’t get herself ready for school without being reminded to brush teeth, hair, what goes in bag etc.\\n',\n",
              "  {'entities': [(51, 59, 'a_behavioural')]}),\n",
              " ('he speaks in broken sentences.', {'entities': [(13, 29, 'a_vocal')]}),\n",
              " ('he also has flat or monotonous speech which makes me wonder if he has autism or not',\n",
              "  {'entities': [(20, 37, 'a_vocal')]}),\n",
              " ('she doesnt mind going out, she also loves playing with her older sister, she does like to rock back and forth and sometimes wakes up in the night making a weird \"aaaah\" sound rocking. like i say she only has some symptoms and perhaps she is just a bit delayed with the speech it is hard to tell.\\n',\n",
              "  {'entities': [(90, 94, 'a_behavioural'),\n",
              "    (175, 182, 'a_behavioural'),\n",
              "    (252, 275, 'a_vocal')]}),\n",
              " ('my son is not responding when i call him by name.',\n",
              "  {'entities': [(10, 24, 'a_behavioural')]}),\n",
              " ('she started walking early but it is the lack of attention that she pays to any attempt at trying to attract her attention and the lack of vocab that has made us concerned.\\n',\n",
              "  {'entities': [(40, 57, 'a_behavioural'), (130, 143, 'a_vocal')]}),\n",
              " ('yes, he’s very sensitive to loud sirens or loud tv even ',\n",
              "  {'entities': [(15, 24, 'a_behavioural'), (28, 32, 'a_intensity')]}),\n",
              " ('neither of them had any real interest in toys or playing. the exceptions were electronic toys where you pressed a button and it told you a number or a letter of the alphabet.\\n',\n",
              "  {'entities': [(29, 37, 'a_behavioural')]}),\n",
              " ('no eye contact. no speech. not reached developmental milestones. repeated actions.',\n",
              "  {'entities': [(16, 25, 'a_behavioural'), (65, 81, 'a_behavioural')]}),\n",
              " (' showing distress for no apparent reason',\n",
              "  {'entities': [(9, 17, 'a_behavioural')]}),\n",
              " (\"head wobble/shake - he's recently developed this head shaking movement which he does in his walker or when sitting watching tv. this was the straw that broke our back and we couldn't hide from it anymore.\\n\",\n",
              "  {'entities': [(49, 61, 'a_behavioural')]}),\n",
              " ('engaging in repetitious motor movements ',\n",
              "  {'entities': [(12, 23, 'a_behavioural')]}),\n",
              " ('* can’t do any chores around the house and has no interest in learning. even laying the dinner table is a massive event as each time she’ll need to be reminded that she needs to put on\\n',\n",
              "  {'entities': [(47, 58, 'a_behavioural'), (151, 159, 'a_behavioural')]}),\n",
              " ('crying for no apparent reason', {'entities': [(0, 6, 'a_behavioural')]}),\n",
              " ('speaks with stutter', {'entities': [(12, 19, 'a_behavioural')]}),\n",
              " ('youngest is 4.5 and gotten worse and harder to manage and has limited speech. 7 year old has gotten easier. toys and choosing are triggers for her but meltdowns are few and far between now. she is still hard work but not as much as she’s more able to reason with now.',\n",
              "  {'entities': [(27, 32, 'a_intensity'),\n",
              "    (37, 43, 'a_intensity'),\n",
              "    (62, 76, 'a_vocal'),\n",
              "    (151, 160, 'a_intensity')]}),\n",
              " ('has difficulty recognizing tone of voice\\n',\n",
              "  {'entities': [(4, 14, 'a_behavioural'), (27, 31, 'a_vocal')]}),\n",
              " ('he is able to write read basic words and spell, can count and has really good and unique style of handwriting. far ahead of a normal three years.\\nobsessed with numbers. i mean ,really obsessed. very specific about how they should look, will cry with joy at the perfect 6 for example.',\n",
              "  {'entities': [(146, 154, 'a_intensity')]}),\n",
              " ('i can remember distinctly at the age of 6 or 7 not knowing how to join in a game of baseball. i wonder if i was slightly autistic. i just didnt know or \"get\" what the rules were or why, and why i was being picked for a team. further i remember stabbing a little girl with a pencil in her hand yeah, i know, awful but i was only six. i didnt give it a moments notice. also my sister always had to make friends for me when we were young. i would say, go and make friends with that little girl.',\n",
              "  {'entities': [(47, 58, 'a_behavioural'),\n",
              "    (244, 252, 'a_intensity'),\n",
              "    (307, 312, 'a_behavioural'),\n",
              "    (396, 408, 'a_behavioural')]}),\n",
              " (\"i had some very slight concerns before but i'm not too sure and to me he doesn't seem that bad that he would seem that different to children of the same age. there are probably two things that he does that are more unusual and the other things i think aren't unusual for a toddler of his age- such as not yet potty trained, not always responding to name etc. the more unusual things he does is being very good with numbers and humming although he does this much less now than he used to, oh and he also likes routine.\",\n",
              "  {'entities': [(215, 222, 'a_behavioural')]}),\n",
              " ('his behavior sometimes tends to be rude and he tries to do self harm',\n",
              "  {'entities': [(35, 39, 'a_behavioural'), (59, 68, 'a_behavioural')]}),\n",
              " ('not active and is not engaging in games and sports',\n",
              "  {'entities': [(0, 10, 'a_behavioural'), (18, 30, 'a_behavioural')]}),\n",
              " (\"i had anorexia in my teens, and was finally diagnosed with depression and apparently an inability to deal with 'real life' and 'the world'.\",\n",
              "  {'entities': [(88, 97, 'a_intensity')]}),\n",
              " (\"my daughter has autism. she's 6. the only way i can describe it and i know it comes across as horrible but it's like having a toddler who has the strenght of a 6 years old. she throws herself on the floor. has tantrums. is vicious towards her younger siblings. crys hysterically if something happens that she doesn't like. can be as easy as not getting a toy from the shop for example. she's very able in other ways and can read and write, but has low receptive communication. i just find it's getting harder, everyone told me it would get easier as she gets older but it hasn't. it's got much worse. when she was little if she was having a tantrum i could pick her up or put her in the pram. now she's too big for me to even restrain her and throws herself on the floor screaming. people look at us and laugh. i've heard it. yesterday i was banned from a shop due to her behaviour, despite me explaining her condition they didn't care/understand. i've just been pulled up by the school this morning to say she was climbing the book shelves yesterday and bit a member of staff. it really isn't going to get better is it? every day feels like a struggle i just don't know what the future holds.\",\n",
              "  {'entities': [(94, 102, 'a_intensity'),\n",
              "    (177, 183, 'a_intensity'),\n",
              "    (223, 230, 'a_intensity'),\n",
              "    (266, 278, 'a_intensity'),\n",
              "    (448, 451, 'a_intensity'),\n",
              "    (594, 599, 'a_intensity'),\n",
              "    (771, 780, 'a_intensity'),\n",
              "    (1144, 1152, 'a_intensity')]}),\n",
              " ('she hates to be held and rarely wants cuddles.',\n",
              "  {'entities': [(4, 9, 'a_intensity')]})]"
            ]
          },
          "metadata": {
            "tags": []
          },
          "execution_count": 229
        }
      ]
    },
    {
      "cell_type": "code",
      "metadata": {
        "id": "ft25ZeWlx8Xc",
        "outputId": "8f01fbe7-a4f0-41dc-ae8d-b32e91df613b",
        "colab": {
          "base_uri": "https://localhost:8080/"
        }
      },
      "source": [
        "len(testing)"
      ],
      "execution_count": 230,
      "outputs": [
        {
          "output_type": "execute_result",
          "data": {
            "text/plain": [
              "43"
            ]
          },
          "metadata": {
            "tags": []
          },
          "execution_count": 230
        }
      ]
    },
    {
      "cell_type": "markdown",
      "metadata": {
        "id": "DCvrEsAgEG82"
      },
      "source": [
        "#Visualising the different labels"
      ]
    },
    {
      "cell_type": "code",
      "metadata": {
        "id": "-_hV5BPXJOnG"
      },
      "source": [
        "def funcl(str1):\n",
        "  main_round = []\n",
        "  # print(str1)\n",
        "  beg = 0\n",
        "  str1 = str1.lower()\n",
        "  st = str1.find(\"[\")\n",
        "  end = str1.find(\"]\")\n",
        "  round = re.findall(r'\\(.*?\\)', str1)\n",
        "  square = re.findall(r'\\[.*?\\]', str1)\n",
        "  if(len(round)!=len(square)):\n",
        "    return      \n",
        "  \n",
        "  for i in round:\n",
        "    rs = [[round[i][1:-1]] for i in range(len(round))]\n",
        "    main_round.append(rs)\n",
        "  return main_round"
      ],
      "execution_count": 231,
      "outputs": []
    },
    {
      "cell_type": "code",
      "metadata": {
        "id": "Zjbf-8KgSldI"
      },
      "source": [
        "lab = df['Sentences'].apply(funcl)"
      ],
      "execution_count": 232,
      "outputs": []
    },
    {
      "cell_type": "code",
      "metadata": {
        "id": "fs_HRwjwSrFu",
        "outputId": "1574ad8b-8b91-4b8e-ef63-c352186c7071",
        "colab": {
          "base_uri": "https://localhost:8080/"
        }
      },
      "source": [
        "type(lab)"
      ],
      "execution_count": 233,
      "outputs": [
        {
          "output_type": "execute_result",
          "data": {
            "text/plain": [
              "pandas.core.series.Series"
            ]
          },
          "metadata": {
            "tags": []
          },
          "execution_count": 233
        }
      ]
    },
    {
      "cell_type": "code",
      "metadata": {
        "id": "JRb5g_RNEZY4"
      },
      "source": [
        "lab = lab.to_list()"
      ],
      "execution_count": 234,
      "outputs": []
    },
    {
      "cell_type": "code",
      "metadata": {
        "id": "EwP57AX9E8Ej"
      },
      "source": [
        "lab = flatten(lab)"
      ],
      "execution_count": 235,
      "outputs": []
    },
    {
      "cell_type": "code",
      "metadata": {
        "id": "4_pxE-3yFWAT"
      },
      "source": [
        "Not_none_values = filter(None.__ne__, lab)\n",
        "lab = list(Not_none_values)"
      ],
      "execution_count": 236,
      "outputs": []
    },
    {
      "cell_type": "code",
      "metadata": {
        "id": "UWhLnKXmFA06"
      },
      "source": [
        "data = pd.DataFrame(list(zip(lab)), \n",
        "               columns =['Label']) "
      ],
      "execution_count": 237,
      "outputs": []
    },
    {
      "cell_type": "code",
      "metadata": {
        "id": "7IiRfFQYFKwv",
        "outputId": "d7959b4d-4d29-4ad5-cc50-a19809208295",
        "colab": {
          "base_uri": "https://localhost:8080/"
        }
      },
      "source": [
        "data['Label'].unique()"
      ],
      "execution_count": 238,
      "outputs": [
        {
          "output_type": "execute_result",
          "data": {
            "text/plain": [
              "array(['a_behavioural', 'a_intensity', 'a_vocal'], dtype=object)"
            ]
          },
          "metadata": {
            "tags": []
          },
          "execution_count": 238
        }
      ]
    },
    {
      "cell_type": "code",
      "metadata": {
        "id": "zP4YTZTjF88R",
        "outputId": "0e8ac571-f405-4fa4-a4aa-3cf66ba40e0a",
        "colab": {
          "base_uri": "https://localhost:8080/",
          "height": 434
        }
      },
      "source": [
        "import matplotlib.pyplot as plt\n",
        "fig = plt.figure(figsize=(12,6))\n",
        "data['Label'].value_counts().plot(kind = 'bar')\n",
        "plt.show()"
      ],
      "execution_count": 239,
      "outputs": [
        {
          "output_type": "display_data",
          "data": {
            "image/png": "[encoded data removed]",
            "text/plain": [
              "<Figure size 864x432 with 1 Axes>"
            ]
          },
          "metadata": {
            "tags": [],
            "needs_background": "light"
          }
        }
      ]
    },
    {
      "cell_type": "markdown",
      "metadata": {
        "id": "2KhYzQmdG7p_"
      },
      "source": [
        "# Spacy Training"
      ]
    },
    {
      "cell_type": "markdown",
      "metadata": {
        "id": "ZqhQSvRHA8HD"
      },
      "source": [
        "# New"
      ]
    },
    {
      "cell_type": "code",
      "metadata": {
        "id": "4PKWtjf6_mhT"
      },
      "source": [
        "import spacy\n",
        "import random\n",
        "from spacy.scorer import Scorer\n",
        "from spacy.gold import GoldParse\n",
        "\n",
        "################### Train Spacy NER.###########\n",
        "def train_spacy(epochs=30):\n",
        "\n",
        "    TRAIN_DATA = td #train data\n",
        "    nlp = spacy.blank('en')  # create blank Language class\n",
        "    # create the built-in pipeline components and add them to the pipeline\n",
        "    # nlp.create_pipe works for built-ins that are registered with spaCy\n",
        "    if 'ner' not in nlp.pipe_names:\n",
        "        ner = nlp.create_pipe('ner')\n",
        "        nlp.add_pipe(ner, last=True)\n",
        "       \n",
        "\n",
        "    # add labels\n",
        "    for _, annotations in TRAIN_DATA:\n",
        "         for ent in annotations.get('entities'):\n",
        "            ner.add_label(ent[2])\n",
        "\n",
        "    # get names of other pipes to disable them during training\n",
        "    other_pipes = [pipe for pipe in nlp.pipe_names if pipe != 'ner']\n",
        "    with nlp.disable_pipes(*other_pipes):  # only train NER\n",
        "        optimizer = nlp.begin_training()\n",
        "        for itn in range(epochs):\n",
        "            print(\"Starting iteration \" + str(itn))\n",
        "            random.shuffle(TRAIN_DATA)\n",
        "            losses = {}\n",
        "            for text, annotations in TRAIN_DATA:\n",
        "                nlp.update(\n",
        "                    [text],  # batch of texts\n",
        "                    [annotations],  # batch of annotations\n",
        "                    drop=0.3,  # dropout - make it harder to memorise data\n",
        "                    sgd=optimizer,  # callable to update weights\n",
        "                    losses=losses)\n",
        "            print(losses)\n",
        "            # Saving model to disk\n",
        "            nlp.to_disk(\"NER\")\n",
        "    return nlp"
      ],
      "execution_count": 240,
      "outputs": []
    },
    {
      "cell_type": "code",
      "metadata": {
        "id": "Yl5CCkeP_wMf",
        "outputId": "64f016fb-e8c4-4b7f-feef-0714c9bb2477",
        "colab": {
          "base_uri": "https://localhost:8080/"
        }
      },
      "source": [
        "# Training the NER model for N Epochs\n",
        "nlp = train_spacy(35)"
      ],
      "execution_count": 241,
      "outputs": [
        {
          "output_type": "stream",
          "text": [
            "Starting iteration 0\n",
            "{'ner': 583.7354585570446}\n",
            "Starting iteration 1\n",
            "{'ner': 476.4906923644955}\n",
            "Starting iteration 2\n",
            "{'ner': 416.734792487973}\n",
            "Starting iteration 3\n",
            "{'ner': 347.9231578571645}\n",
            "Starting iteration 4\n",
            "{'ner': 392.4637724222665}\n",
            "Starting iteration 5\n",
            "{'ner': 348.29524703598395}\n",
            "Starting iteration 6\n",
            "{'ner': 283.32888146462227}\n",
            "Starting iteration 7\n",
            "{'ner': 227.50867116335777}\n",
            "Starting iteration 8\n",
            "{'ner': 170.25294704310542}\n",
            "Starting iteration 9\n",
            "{'ner': 187.0961938650431}\n",
            "Starting iteration 10\n",
            "{'ner': 161.40406984234127}\n",
            "Starting iteration 11\n",
            "{'ner': 173.1616630465639}\n",
            "Starting iteration 12\n",
            "{'ner': 178.76179719275294}\n",
            "Starting iteration 13\n",
            "{'ner': 136.92455327885693}\n",
            "Starting iteration 14\n",
            "{'ner': 140.22094460276648}\n",
            "Starting iteration 15\n",
            "{'ner': 115.41377312414642}\n",
            "Starting iteration 16\n",
            "{'ner': 94.28187989190079}\n",
            "Starting iteration 17\n",
            "{'ner': 162.18662441300182}\n",
            "Starting iteration 18\n",
            "{'ner': 144.31548087279518}\n",
            "Starting iteration 19\n",
            "{'ner': 102.93408968266499}\n",
            "Starting iteration 20\n",
            "{'ner': 83.57566629955559}\n",
            "Starting iteration 21\n",
            "{'ner': 104.60019757073337}\n",
            "Starting iteration 22\n",
            "{'ner': 74.61726601048525}\n",
            "Starting iteration 23\n",
            "{'ner': 77.57549256333259}\n",
            "Starting iteration 24\n",
            "{'ner': 88.66142445268527}\n",
            "Starting iteration 25\n",
            "{'ner': 73.90444078432229}\n",
            "Starting iteration 26\n",
            "{'ner': 50.517298456475615}\n",
            "Starting iteration 27\n",
            "{'ner': 39.342396599307754}\n",
            "Starting iteration 28\n",
            "{'ner': 29.507617328388736}\n",
            "Starting iteration 29\n",
            "{'ner': 70.45562837279353}\n",
            "Starting iteration 30\n",
            "{'ner': 57.600604123462915}\n",
            "Starting iteration 31\n",
            "{'ner': 63.91520152599674}\n",
            "Starting iteration 32\n",
            "{'ner': 64.78012538054936}\n",
            "Starting iteration 33\n",
            "{'ner': 55.701017983172314}\n",
            "Starting iteration 34\n",
            "{'ner': 84.11880675828408}\n"
          ],
          "name": "stdout"
        }
      ]
    },
    {
      "cell_type": "code",
      "metadata": {
        "id": "Nyv8cmmHTaiF",
        "outputId": "794bb4b7-87eb-4717-bfee-e8722751d16d",
        "colab": {
          "base_uri": "https://localhost:8080/"
        }
      },
      "source": [
        "! zip -r NER.zip NER/"
      ],
      "execution_count": 242,
      "outputs": [
        {
          "output_type": "stream",
          "text": [
            "updating: NER/ (stored 0%)\n",
            "updating: NER/ner/ (stored 0%)\n",
            "updating: NER/ner/model (deflated 8%)\n",
            "updating: NER/ner/cfg (deflated 47%)\n",
            "updating: NER/ner/moves (deflated 66%)\n",
            "updating: NER/meta.json (deflated 41%)\n",
            "updating: NER/tokenizer (deflated 83%)\n",
            "updating: NER/vocab/ (stored 0%)\n",
            "updating: NER/vocab/strings.json (deflated 71%)\n",
            "updating: NER/vocab/key2row (stored 0%)\n",
            "updating: NER/vocab/vectors (deflated 45%)\n",
            "updating: NER/vocab/lexemes.bin (deflated 76%)\n"
          ],
          "name": "stdout"
        }
      ]
    },
    {
      "cell_type": "markdown",
      "metadata": {
        "id": "_dOQj28MhWNn"
      },
      "source": [
        "#Prediction"
      ]
    },
    {
      "cell_type": "code",
      "metadata": {
        "id": "vVSDYyC-TKUi"
      },
      "source": [
        "nlp = spacy.load(\"NER\")"
      ],
      "execution_count": 243,
      "outputs": []
    },
    {
      "cell_type": "code",
      "metadata": {
        "id": "_Fzzhmsc9h89",
        "outputId": "da8333d2-5bf1-4514-e542-ef8da51481e8",
        "colab": {
          "base_uri": "https://localhost:8080/"
        }
      },
      "source": [
        "for text,annot in testing:\n",
        "  doc = nlp(text)\n",
        "\n",
        "# Testing the model\n",
        "  print(text)\n",
        "  \n",
        "  print(\"Entities\", [(ent.text, ent.label_) for ent in doc.ents])\n",
        "  print('\\n')"
      ],
      "execution_count": 244,
      "outputs": [
        {
          "output_type": "stream",
          "text": [
            "unusual use of vision or gaze—looks at objects from unusual angles\n",
            "\n",
            "Entities [('unusual use', 'a_behavioural'), ('gaze—looks', 'a_behavioural'), ('unusual angles', 'a_behavioural')]\n",
            "\n",
            "\n",
            "doesnt interact properly with peers\n",
            "Entities [('doesnt interact', 'a_behavioural')]\n",
            "\n",
            "\n",
            "my child has delay in learning to speak\n",
            "Entities [('has delay', 'a_vocal'), ('learning', 'a_behavioural')]\n",
            "\n",
            "\n",
            "when i leave for office, my son is not crying\n",
            "Entities [('crying', 'a_behavioural')]\n",
            "\n",
            "\n",
            "sometimes he blabbers unnecessarily\n",
            "Entities []\n",
            "\n",
            "\n",
            "eye contact - he actively avoids eye contact. if you hold him up in front of your face he'll do anything he can to not look you in the eyes. from a distance he's much better but up close it's really noticeable.\n",
            "\n",
            "Entities [('eye contact', 'a_behavioural')]\n",
            "\n",
            "\n",
            "op, mine is midst diagnosis, but so far it seems to be accepted that he is.\n",
            "initially we thought he had elective mutism. he was referred to salt. and also had audiology test\n",
            "Entities [('accepted', 'a_behavioural'), ('elective', 'a_intensity'), ('referred', 'a_behavioural')]\n",
            "\n",
            "\n",
            "my child won’t self-advocate because they use an adaptive device to communicate\n",
            "Entities [('adaptive', 'a_behavioural')]\n",
            "\n",
            "\n",
            "she has only just turned 12 months so still very young so not sure if she has slight hearing problems, maybe some asd or just completely ignorant\n",
            "Entities [('hearing problems', 'a_behavioural'), ('completely', 'a_intensity')]\n",
            "\n",
            "\n",
            "cannot follow instructions, always the last person to get it\n",
            "\n",
            "Entities [('not follow instructions', 'a_behavioural')]\n",
            "\n",
            "\n",
            "my ds2 is 21 now.he still needs lots of support with every day living skills, still eats inedible objects, and is medicated for anxiety and ocd \n",
            "Entities [('eats inedible', 'a_behavioural'), ('anxiety', 'a_behavioural')]\n",
            "\n",
            "\n",
            "get scared of seeing spinning objects\n",
            "Entities [('scared', 'a_behavioural')]\n",
            "\n",
            "\n",
            "she doesnt point or wave.\n",
            "\n",
            "Entities [('doesnt point', 'a_behavioural')]\n",
            "\n",
            "\n",
            "pronunciation of certain letters\n",
            "Entities [('pronunciation of certain', 'a_behavioural')]\n",
            "\n",
            "\n",
            "have obsessive interests such as waiting for an object to break etc\n",
            "\n",
            "Entities [('obsessive', 'a_intensity')]\n",
            "\n",
            "\n",
            "doesn't point at or bring objects to share interest\n",
            "\n",
            "Entities [(\"doesn't point\", 'a_behavioural')]\n",
            "\n",
            "\n",
            " has tantrums. \n",
            "Entities [('tantrums', 'a_intensity')]\n",
            "\n",
            "\n",
            "he won't be independent, won't drive or marry no interest in relationships, just in lists, supermarkets and pets\n",
            "Entities [('drive or marry', 'a_behavioural'), ('no interest', 'a_behavioural'), ('lists', 'a_intensity'), ('pets', 'a_behavioural')]\n",
            "\n",
            "\n",
            "* can’t get herself ready for school without being reminded to brush teeth, hair, what goes in bag etc.\n",
            "\n",
            "Entities [('reminded to', 'a_behavioural'), ('brush', 'a_intensity')]\n",
            "\n",
            "\n",
            "he speaks in broken sentences.\n",
            "Entities []\n",
            "\n",
            "\n",
            "he also has flat or monotonous speech which makes me wonder if he has autism or not\n",
            "Entities [('flat or', 'a_behavioural')]\n",
            "\n",
            "\n",
            "she doesnt mind going out, she also loves playing with her older sister, she does like to rock back and forth and sometimes wakes up in the night making a weird \"aaaah\" sound rocking. like i say she only has some symptoms and perhaps she is just a bit delayed with the speech it is hard to tell.\n",
            "\n",
            "Entities [('doesnt mind', 'a_behavioural'), ('hard to', 'a_vocal')]\n",
            "\n",
            "\n",
            "my son is not responding when i call him by name.\n",
            "Entities [('not responding', 'a_behavioural')]\n",
            "\n",
            "\n",
            "she started walking early but it is the lack of attention that she pays to any attempt at trying to attract her attention and the lack of vocab that has made us concerned.\n",
            "\n",
            "Entities [('lack of attention', 'a_behavioural'), ('of vocab', 'a_intensity')]\n",
            "\n",
            "\n",
            "yes, he’s very sensitive to loud sirens or loud tv even \n",
            "Entities [('sensitive', 'a_behavioural'), ('loud', 'a_intensity'), ('loud', 'a_intensity')]\n",
            "\n",
            "\n",
            "neither of them had any real interest in toys or playing. the exceptions were electronic toys where you pressed a button and it told you a number or a letter of the alphabet.\n",
            "\n",
            "Entities [('neither of them', 'a_behavioural')]\n",
            "\n",
            "\n",
            "no eye contact. no speech. not reached developmental milestones. repeated actions.\n",
            "Entities [('no eye contact', 'a_behavioural'), ('repeated', 'a_behavioural')]\n",
            "\n",
            "\n",
            " showing distress for no apparent reason\n",
            "Entities [('distress', 'a_behavioural')]\n",
            "\n",
            "\n",
            "head wobble/shake - he's recently developed this head shaking movement which he does in his walker or when sitting watching tv. this was the straw that broke our back and we couldn't hide from it anymore.\n",
            "\n",
            "Entities [('head wobble', 'a_behavioural'), ('head shaking', 'a_behavioural')]\n",
            "\n",
            "\n",
            "engaging in repetitious motor movements \n",
            "Entities [('movements', 'a_behavioural')]\n",
            "\n",
            "\n",
            "* can’t do any chores around the house and has no interest in learning. even laying the dinner table is a massive event as each time she’ll need to be reminded that she needs to put on\n",
            "\n",
            "Entities [('can’t do', 'a_behavioural'), ('no interest', 'a_behavioural')]\n",
            "\n",
            "\n",
            "crying for no apparent reason\n",
            "Entities [('crying', 'a_behavioural')]\n",
            "\n",
            "\n",
            "speaks with stutter\n",
            "Entities []\n",
            "\n",
            "\n",
            "youngest is 4.5 and gotten worse and harder to manage and has limited speech. 7 year old has gotten easier. toys and choosing are triggers for her but meltdowns are few and far between now. she is still hard work but not as much as she’s more able to reason with now.\n",
            "Entities [('limited speech', 'a_vocal'), ('hard work', 'a_behavioural')]\n",
            "\n",
            "\n",
            "has difficulty recognizing tone of voice\n",
            "\n",
            "Entities [('has difficulty recognizing', 'a_behavioural')]\n",
            "\n",
            "\n",
            "he is able to write read basic words and spell, can count and has really good and unique style of handwriting. far ahead of a normal three years.\n",
            "obsessed with numbers. i mean ,really obsessed. very specific about how they should look, will cry with joy at the perfect 6 for example.\n",
            "Entities [('is able', 'a_behavioural'), ('obsessed', 'a_intensity'), ('obsessed', 'a_intensity'), ('cry', 'a_behavioural')]\n",
            "\n",
            "\n",
            "i can remember distinctly at the age of 6 or 7 not knowing how to join in a game of baseball. i wonder if i was slightly autistic. i just didnt know or \"get\" what the rules were or why, and why i was being picked for a team. further i remember stabbing a little girl with a pencil in her hand yeah, i know, awful but i was only six. i didnt give it a moments notice. also my sister always had to make friends for me when we were young. i would say, go and make friends with that little girl.\n",
            "Entities [('didnt', 'a_vocal'), ('stabbing', 'a_intensity')]\n",
            "\n",
            "\n",
            "i had some very slight concerns before but i'm not too sure and to me he doesn't seem that bad that he would seem that different to children of the same age. there are probably two things that he does that are more unusual and the other things i think aren't unusual for a toddler of his age- such as not yet potty trained, not always responding to name etc. the more unusual things he does is being very good with numbers and humming although he does this much less now than he used to, oh and he also likes routine.\n",
            "Entities [(\"doesn't seem\", 'a_vocal'), ('not yet', 'a_behavioural'), ('responding', 'a_behavioural'), ('routine', 'a_behavioural')]\n",
            "\n",
            "\n",
            "his behavior sometimes tends to be rude and he tries to do self harm\n",
            "Entities [('self harm', 'a_intensity')]\n",
            "\n",
            "\n",
            "not active and is not engaging in games and sports\n",
            "Entities [('not active', 'a_behavioural')]\n",
            "\n",
            "\n",
            "i had anorexia in my teens, and was finally diagnosed with depression and apparently an inability to deal with 'real life' and 'the world'.\n",
            "Entities [('depression', 'a_behavioural')]\n",
            "\n",
            "\n",
            "my daughter has autism. she's 6. the only way i can describe it and i know it comes across as horrible but it's like having a toddler who has the strenght of a 6 years old. she throws herself on the floor. has tantrums. is vicious towards her younger siblings. crys hysterically if something happens that she doesn't like. can be as easy as not getting a toy from the shop for example. she's very able in other ways and can read and write, but has low receptive communication. i just find it's getting harder, everyone told me it would get easier as she gets older but it hasn't. it's got much worse. when she was little if she was having a tantrum i could pick her up or put her in the pram. now she's too big for me to even restrain her and throws herself on the floor screaming. people look at us and laugh. i've heard it. yesterday i was banned from a shop due to her behaviour, despite me explaining her condition they didn't care/understand. i've just been pulled up by the school this morning to say she was climbing the book shelves yesterday and bit a member of staff. it really isn't going to get better is it? every day feels like a struggle i just don't know what the future holds.\n",
            "Entities [('throws', 'a_intensity'), ('tantrums', 'a_intensity'), ('vicious', 'a_intensity'), ('find', 'a_intensity'), ('worse', 'a_intensity'), ('throws', 'a_intensity')]\n",
            "\n",
            "\n",
            "she hates to be held and rarely wants cuddles.\n",
            "Entities [('hates', 'a_behavioural')]\n",
            "\n",
            "\n"
          ],
          "name": "stdout"
        }
      ]
    },
    {
      "cell_type": "markdown",
      "metadata": {
        "id": "x9isvqne06l0"
      },
      "source": [
        "#Score"
      ]
    },
    {
      "cell_type": "code",
      "metadata": {
        "id": "StO-_81Cclp0"
      },
      "source": [
        "import spacy\n",
        "from spacy.gold import GoldParse\n",
        "from spacy.scorer import Scorer\n",
        "\n",
        "def evaluate(ner_model, examples):\n",
        "    scorer = Scorer()\n",
        "    for input_, annot in examples:\n",
        "        doc_gold_text = ner_model.make_doc(input_)\n",
        "        gold = GoldParse(doc_gold_text, entities=annot['entities'])\n",
        "        pred_value = ner_model(input_)\n",
        "        scorer.score(pred_value, gold)\n",
        "    return scorer.scores"
      ],
      "execution_count": 245,
      "outputs": []
    },
    {
      "cell_type": "code",
      "metadata": {
        "id": "jHo8p_J9clp2"
      },
      "source": [
        "results = evaluate(nlp, testing)"
      ],
      "execution_count": 246,
      "outputs": []
    },
    {
      "cell_type": "code",
      "metadata": {
        "id": "RCdBtc2QBfKF",
        "outputId": "fa5f0e9c-331f-4805-c05f-bfffac0a8561",
        "colab": {
          "base_uri": "https://localhost:8080/"
        }
      },
      "source": [
        "print(results[\"ents_per_type\"])"
      ],
      "execution_count": 247,
      "outputs": [
        {
          "output_type": "stream",
          "text": [
            "{'a_behavioural': {'p': 27.659574468085108, 'r': 34.21052631578947, 'f': 30.58823529411765}, 'a_vocal': {'p': 20.0, 'r': 10.0, 'f': 13.333333333333334}, 'a_intensity': {'p': 42.10526315789473, 'r': 42.10526315789473, 'f': 42.10526315789473}}\n"
          ],
          "name": "stdout"
        }
      ]
    },
    {
      "cell_type": "markdown",
      "metadata": {
        "id": "WEOSuKTBoAqG"
      },
      "source": [
        "#Validation\n"
      ]
    },
    {
      "cell_type": "code",
      "metadata": {
        "id": "NuZw56BUz3YW",
        "outputId": "e6737767-126d-4818-a598-0bff94db376e",
        "colab": {
          "base_uri": "https://localhost:8080/"
        }
      },
      "source": [
        "  text = \"he is angry always\"\n",
        "  doc = nlp(text)\n",
        "\n",
        "# Testing the model\n",
        "  print(text)\n",
        "  \n",
        "  print(\"Entities\", [(ent.text, ent.label_) for ent in doc.ents])\n",
        "  print('\\n')"
      ],
      "execution_count": 248,
      "outputs": [
        {
          "output_type": "stream",
          "text": [
            "he is angry always\n",
            "Entities [('angry', 'a_intensity')]\n",
            "\n",
            "\n"
          ],
          "name": "stdout"
        }
      ]
    },
    {
      "cell_type": "code",
      "metadata": {
        "id": "KOSvYgAIoJOU"
      },
      "source": [
        ""
      ],
      "execution_count": null,
      "outputs": []
    }
  ]
}